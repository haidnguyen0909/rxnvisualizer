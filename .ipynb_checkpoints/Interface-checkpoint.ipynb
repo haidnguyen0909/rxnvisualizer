{
 "cells": [
  {
   "cell_type": "code",
   "execution_count": 1,
   "id": "4b8c5291",
   "metadata": {
    "scrolled": true
   },
   "outputs": [],
   "source": [
    "import ipywidgets as widgets\n",
    "from images import route2image, readFile\n",
    "from IPython.display import display, HTML\n",
    "import os"
   ]
  },
  {
   "cell_type": "code",
   "execution_count": 2,
   "id": "a4f2f9ed",
   "metadata": {},
   "outputs": [],
   "source": [
    "import ipywidgets as widgets\n",
    "from ipywidgets import HBox, VBox, Button, Text, Image\n",
    "from ipywidgets import Layout, Button, Label,Box, ButtonStyle"
   ]
  },
  {
   "cell_type": "code",
   "execution_count": 3,
   "id": "006aef64",
   "metadata": {
    "scrolled": false
   },
   "outputs": [
    {
     "data": {
      "application/vnd.jupyter.widget-view+json": {
       "model_id": "6516430602ba4d208229570b11ee1299",
       "version_major": 2,
       "version_minor": 0
      },
      "text/plain": [
       "Layout(align_items='flex-start', border='1px solid black', display='flex', flex_flow='column wrap', height='10…"
      ]
     },
     "metadata": {},
     "output_type": "display_data"
    },
    {
     "data": {
      "application/vnd.jupyter.widget-view+json": {
       "model_id": "9f3d32dc85304592bb11cf37e72448ba",
       "version_major": 2,
       "version_minor": 0
      },
      "text/plain": [
       "Output(layout=Layout(border='1px solid black'))"
      ]
     },
     "metadata": {},
     "output_type": "display_data"
    },
    {
     "data": {
      "application/vnd.jupyter.widget-view+json": {
       "model_id": "b57c882c2b064706b4a67c1cda34af5d",
       "version_major": 2,
       "version_minor": 0
      },
      "text/plain": [
       "VBox(children=(Box(children=(Button(description='..', layout=Layout(height='auto', left='0px', width='auto'), …"
      ]
     },
     "metadata": {},
     "output_type": "display_data"
    },
    {
     "name": "stdout",
     "output_type": "stream",
     "text": [
      "clicking ...\n",
      "/Users/daihainguyen/Desktop/gui/qed8.txt False\n"
     ]
    }
   ],
   "source": [
    "\n",
    "from IPython.display import display\n",
    "from ipywidgets import Dropdown\n",
    "\n",
    "\n",
    "\n",
    "\n",
    "class FileBrowser(object):\n",
    "    def __init__(self, width='auto', height=\"100px\", item_width=\"auto\", item_height=\"auto\"):\n",
    "        \n",
    "        self.path = os.getcwd()\n",
    "        self._update_files()\n",
    "        \n",
    "        self.layout = Layout(overflow='scroll',\n",
    "                             border ='1px solid black',\n",
    "                             width  ='{}'.format(width),\n",
    "                             height ='{}'.format(height),\n",
    "                             flex_flow = \"column wrap\",\n",
    "                             align_items = \"flex-start\",\n",
    "                             display='flex')\n",
    "        \n",
    "        self.button_dir_syle  = ButtonStyle(button_color='lightgray')\n",
    "        self.button_file_syle = ButtonStyle(button_color='#Fafaff')\n",
    "        \n",
    "        self.button_layout    = Layout(left=\"0px\", width=\"{}\".format(item_width), height=\"{}\".format(item_height))\n",
    "        self.dropdown = widgets.Dropdown(options=[])\n",
    "        self.output = widgets.Output(layout={'border':'1px solid black'})\n",
    "        #self.dropdown.observe(self.change_dropdown, 'value')\n",
    "        display(self.layout)\n",
    "        display(self.output)\n",
    "        \n",
    "    def _update_files(self):\n",
    "        self.files = list()\n",
    "        self.dirs  = list()\n",
    "        if(os.path.isdir(self.path)):\n",
    "            for f in os.listdir(self.path):\n",
    "                ff = os.path.join(self.path,f)\n",
    "                if os.path.isdir(ff):\n",
    "                    self.dirs.append(f)\n",
    "                else:\n",
    "                    self.files.append(f)\n",
    "        \n",
    "    def change_dropdown(self, *args):\n",
    "        value = self.dropdown.value\n",
    "        eles = value.split(\" \")\n",
    "        index = int(eles[1])\n",
    "        route = self.routes[index]\n",
    "        score = self.scores[index]\n",
    "        self.output.clear_output()\n",
    "        with self.output:\n",
    "            self.show_reactions(route, score)\n",
    "            #display(HTML(\"<H2>Compounds to Procure\"))\n",
    "\n",
    "        \n",
    "        \n",
    "        \n",
    "    def show_template(self, tem_specs, cols = 4):\n",
    "        rows=[]\n",
    "        n_rows = len(tem_specs)//cols\n",
    "        for name, template in tem_specs.items():\n",
    "            text = widgets.Label(value=name)\n",
    "            file = open(template, \"rb\")\n",
    "            image = file.read()\n",
    "            image = widgets.Image(value=image, description=name, hight=200)\n",
    "            vbox = VBox([text, image])\n",
    "            rows.append(vbox)\n",
    "        return HBox(rows)\n",
    "\n",
    "    def get_images(self, route, score):\n",
    "        rxntree, startings, prod, tem_specs = route2image(route, score)\n",
    "        return rxntree, startings, prod, tem_specs\n",
    "        \n",
    "    \n",
    "    def show_reactions(self, route, score):\n",
    "        button = Button(description=\"Show Reaction Tree\")\n",
    "        rxntree, startings, prod, tem_specs = self.get_images(route, score)\n",
    "        self.output.clear_output()\n",
    "        with self.output:\n",
    "            display(HTML(\"<H2> Product and score\"))\n",
    "            display(prod)\n",
    "    \n",
    "    \n",
    "            display(HTML(\"<H2> Compounds to Procure\"))\n",
    "            display(startings)\n",
    "    \n",
    "            display(HTML(\"<H2> Reaction templates\"))\n",
    "            display(self.show_template(tem_specs))\n",
    "    \n",
    "            display(HTML(\"<H2> Synthetic route\"))\n",
    "            display(rxntree)\n",
    "        \n",
    "        \n",
    "    def widget(self):\n",
    "        list_box = widgets.Box(layout=self.layout)\n",
    "        #\n",
    "        box = VBox([list_box, Label(self.path), self.dropdown])\n",
    "        self._update_box(box)\n",
    "        \n",
    "        return box\n",
    "    \n",
    "    \n",
    "    def _update_box(self, main_box):\n",
    "        path_label = main_box.children[1]\n",
    "        path_label.value = \"Selected path: {}\".format(self.path)\n",
    "        \n",
    "        box        = main_box.children[0]\n",
    "        \n",
    "        \n",
    "        def on_click(b):\n",
    "            print(\"clicking ...\")\n",
    "            if b.description == '..':\n",
    "                self.path = os.path.split(self.path)[0]\n",
    "            else:\n",
    "                self.path = os.path.join(self.path, b.description)\n",
    "                print(self.path, os.path.isdir(self.path))\n",
    "                if os.path.isdir(self.path) is False:\n",
    "                    routes, scores = readFile(self.path)\n",
    "                    if len(routes)> 0:\n",
    "                        #self.dropdown.index = None\n",
    "                        self.dropdown.options = [\"route \" + str(i) +\" , score:\" + str(scores[i]) for i in range(len(routes))]\n",
    "                        self.dropdown.observe(self.change_dropdown, 'value')\n",
    "                        self.routes = routes\n",
    "                        self.scores = scores\n",
    "            self._update_files()\n",
    "            self._update_box(main_box)\n",
    "            \n",
    "            \n",
    "        buttons = []\n",
    "        if os.path.dirname(self.path) != self.path:\n",
    "            button = widgets.Button(description='..', style=ButtonStyle(button_color='lightblue'), layout=self.button_layout)\n",
    "            button.on_click(on_click)\n",
    "            buttons.append(button)\n",
    "            \n",
    "        for f in self.dirs:\n",
    "            button = widgets.Button(description=f, style=self.button_dir_syle, icon='fa-folder', tooltip=f, layout=self.button_layout)\n",
    "            button.on_click(on_click)\n",
    "            buttons.append(button)\n",
    "            \n",
    "        for f in self.files:\n",
    "            button = widgets.Button(description=f, style=self.button_file_syle, tooltip=f, layout=self.button_layout)\n",
    "            button.on_click(on_click)\n",
    "            buttons.append(button)\n",
    "            \n",
    "        box.children = buttons\n",
    "\n",
    "\n",
    "f = FileBrowser()\n",
    "# f = FileBrowser(item_width=\"140px\")\n",
    "f.widget()\n",
    "    \n",
    "    \n",
    "\n",
    "        \n",
    "\n",
    "\n",
    "#def on_button_clicked(_):\n",
    "#    route_str = text.value\n",
    "#    rxntree, startings, prod, tem_specs = route2image(route_str)\n",
    "#    display(HTML(\"<H2> Product and score\"))\n",
    "#    display(prod)\n",
    "    \n",
    "#    display(HTML(\"<H2> Compounds to Procure\"))\n",
    "#    display(startings)\n",
    "    \n",
    "#    display(HTML(\"<H2> Reaction templates\"))\n",
    "#    display(show_template(tem_specs))\n",
    "    \n",
    "#    display(HTML(\"<H2> Synthetic route\"))\n",
    "#    display(rxntree)\n",
    "    \n",
    "    \n",
    "        \n",
    "    \n",
    "    \n",
    "    \n",
    "#button.on_click(on_button_clicked)\n",
    "\n",
    "\n",
    "#hbox1 = HBox([button, text])\n"
   ]
  },
  {
   "cell_type": "code",
   "execution_count": 4,
   "id": "ba3b2fc6",
   "metadata": {
    "scrolled": false
   },
   "outputs": [],
   "source": [
    "#display(hbox1)"
   ]
  },
  {
   "cell_type": "code",
   "execution_count": null,
   "id": "cf83b3a6",
   "metadata": {},
   "outputs": [],
   "source": []
  },
  {
   "cell_type": "code",
   "execution_count": null,
   "id": "7969fb0a",
   "metadata": {},
   "outputs": [],
   "source": []
  },
  {
   "cell_type": "code",
   "execution_count": null,
   "id": "2671c893",
   "metadata": {},
   "outputs": [],
   "source": []
  },
  {
   "cell_type": "code",
   "execution_count": null,
   "id": "1e8aaf85",
   "metadata": {},
   "outputs": [],
   "source": []
  },
  {
   "cell_type": "code",
   "execution_count": null,
   "id": "f74db5f1",
   "metadata": {},
   "outputs": [],
   "source": []
  },
  {
   "cell_type": "code",
   "execution_count": null,
   "id": "5c48109a",
   "metadata": {},
   "outputs": [],
   "source": []
  },
  {
   "cell_type": "code",
   "execution_count": null,
   "id": "72f33217",
   "metadata": {},
   "outputs": [],
   "source": []
  },
  {
   "cell_type": "code",
   "execution_count": null,
   "id": "323f6e79",
   "metadata": {},
   "outputs": [],
   "source": []
  },
  {
   "cell_type": "code",
   "execution_count": null,
   "id": "b9dd6368",
   "metadata": {},
   "outputs": [],
   "source": []
  },
  {
   "cell_type": "code",
   "execution_count": null,
   "id": "40f31811",
   "metadata": {},
   "outputs": [],
   "source": []
  },
  {
   "cell_type": "code",
   "execution_count": null,
   "id": "8290fc9b",
   "metadata": {},
   "outputs": [],
   "source": []
  },
  {
   "cell_type": "code",
   "execution_count": null,
   "id": "bc747f9f",
   "metadata": {},
   "outputs": [],
   "source": []
  },
  {
   "cell_type": "code",
   "execution_count": null,
   "id": "c94b9d77",
   "metadata": {},
   "outputs": [],
   "source": []
  },
  {
   "cell_type": "code",
   "execution_count": null,
   "id": "400d01c2",
   "metadata": {},
   "outputs": [],
   "source": []
  }
 ],
 "metadata": {
  "kernelspec": {
   "display_name": "Python 3 (ipykernel)",
   "language": "python",
   "name": "python3"
  },
  "language_info": {
   "codemirror_mode": {
    "name": "ipython",
    "version": 3
   },
   "file_extension": ".py",
   "mimetype": "text/x-python",
   "name": "python",
   "nbconvert_exporter": "python",
   "pygments_lexer": "ipython3",
   "version": "3.8.12"
  }
 },
 "nbformat": 4,
 "nbformat_minor": 5
}
